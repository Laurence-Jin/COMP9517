{
 "cells": [
  {
   "cell_type": "code",
   "execution_count": 1,
   "metadata": {},
   "outputs": [],
   "source": [
    "from pathlib import Path\n",
    "import numpy as np\n",
    "import matplotlib.pyplot as plt\n",
    "from pprint import pprint\n",
    "import matplotlib as mpl \n",
    "import cv2\n",
    "from matplotlib import patches"
   ]
  },
  {
   "cell_type": "code",
   "execution_count": 2,
   "metadata": {},
   "outputs": [],
   "source": [
    "train_path = Path(\"/Users/86136/Desktop/M.YY.L/9517/9517collect/data/step_images/train/\")\n",
    "label_path = Path(\"/Users/86136/Desktop/M.YY.L/9517/9517collect/data/panoptic_maps/train/\")\n",
    "test_path = Path(\"/Users/86136/Desktop/M.YY.L/9517/9517collect/data/step_images/test/\")\n",
    "train_id = [\"0002\", \"0009\"]\n",
    "train_frame = [600, 525]\n",
    "h, w = 1080, 1920"
   ]
  },
  {
   "cell_type": "markdown",
   "metadata": {},
   "source": [
    "\n",
    "Characteristics of the device\n",
    "\n",
    "'pedestrian detector\n",
    "\n",
    "# Start training"
   ]
  },
  {
   "cell_type": "code",
   "execution_count": 3,
   "metadata": {},
   "outputs": [
    {
     "name": "stdout",
     "output_type": "stream",
     "text": [
      "\\Users\\86136\\Desktop\\M.YY.L\\9517\\9517collect\\data\\panoptic_maps\\train\\0002\\000001.png\n"
     ]
    },
    {
     "data": {
      "text/plain": [
       "<Figure size 432x288 with 0 Axes>"
      ]
     },
     "execution_count": 3,
     "metadata": {},
     "output_type": "execute_result"
    },
    {
     "data": {
      "image/png": "[encoded data removed]",
      "text/plain": [
       "<Figure size 432x288 with 1 Axes>"
      ]
     },
     "metadata": {
      "needs_background": "light"
     },
     "output_type": "display_data"
    },
    {
     "data": {
      "text/plain": [
       "<Figure size 432x288 with 0 Axes>"
      ]
     },
     "metadata": {},
     "output_type": "display_data"
    }
   ],
   "source": [
    "#import third-party library (CV2)\n",
    "import cv2 as cv\n",
    "\n",
    "#Packaging function\n",
    "def get_img(img, gray):\n",
    "    # Featurer\n",
    "    hog = cv.HOGDescriptor()\n",
    "    # pedestrain detector\n",
    "    hog.setSVMDetector(cv.HOGDescriptor_getDefaultPeopleDetector())\n",
    "    #begin train\n",
    "    people, b = hog.detectMultiScale(gray,\n",
    "                                  winStride = (4, 4),\n",
    "                                  padding = (4, 4),\n",
    "                                  scale = 1.29,\n",
    "                                  useMeanshiftGrouping = False)\n",
    "    #loop to draw box and label \n",
    "    for x, y, w, h in people:\n",
    "        cv.rectangle(img, (x, y), (x+w, y+h), (255,255,255), 2)\n",
    "        cv.putText(img, 'people', (x, y-5), 1, 1, (0,0,255),1)\n",
    "    # output image\n",
    "    cv.imshow('out', img)\n",
    "\n",
    "#input images\n",
    "path = str(label_path / \"0002\" / \"000001.png\")\n",
    "print(path)\n",
    "# print(path)\n",
    "img = cv.imread(path)\n",
    "h, w, c = img.shape\n",
    "mask = 32*np.ones([h, w])\n",
    "flag = (mask == img[:, :, 0])\n",
    "gt = flag * (256 * img[:, :, 1] + img[:, :, 2])\n",
    "gt = gt/np.max(gt)\n",
    "plt.imshow(gt)\n",
    "plt.figure()\n",
    "\n",
    "# colors = ['white', 'blue', 'cyan', 'Lime','yellow'] \n",
    "# cmap = mpl.colors.ListedColormap(colors)\n",
    "# plt.imshow(img, cmap=cmap)\n",
    "#rgbimage to grayimage\n",
    "# gray = cv.cvtColor(img, cv.COLOR_BGR2GRAY)\n",
    "# \n",
    "# get_img(img, gray)\n",
    "# #stop\n",
    "# cv.waitKey(0)\n",
    "# #destroy window\n",
    "# cv.destroyAllWindows()"
   ]
  },
  {
   "cell_type": "code",
   "execution_count": 4,
   "metadata": {},
   "outputs": [],
   "source": [
    "def find_bbox(mask):\n",
    "    _, labels, stats, centroids = cv2.connectedComponentsWithStats(mask.astype(np.uint8))\n",
    "    stats = stats[stats[:,4].argsort()]\n",
    "    return stats[:-1]"
   ]
  },
  {
   "cell_type": "code",
   "execution_count": 5,
   "metadata": {},
   "outputs": [
    {
     "name": "stdout",
     "output_type": "stream",
     "text": [
      "[array([1340,  421,  169,  368], dtype=int32)]\n"
     ]
    },
    {
     "data": {
      "image/png": "[encoded data removed]",
      "text/plain": [
       "<Figure size 432x288 with 1 Axes>"
      ]
     },
     "metadata": {
      "needs_background": "light"
     },
     "output_type": "display_data"
    },
    {
     "name": "stdout",
     "output_type": "stream",
     "text": [
      "[array([269, 459,  52, 115], dtype=int32), array([262, 590,  92, 117], dtype=int32)]\n"
     ]
    },
    {
     "data": {
      "image/png": "[encoded data removed]",
      "text/plain": [
       "<Figure size 432x288 with 1 Axes>"
      ]
     },
     "metadata": {
      "needs_background": "light"
     },
     "output_type": "display_data"
    }
   ],
   "source": [
    "for i_train in range(len(train_id)):\n",
    "    for idx in range(1, train_frame[i_train]+1):\n",
    "        label_file = label_path / train_id[i_train] / ('%06d' % idx + \".png\")\n",
    "        img = cv.imread(str(label_file))\n",
    "        \n",
    "        instance_map = img[:, :, 0]\n",
    "        instance_ids = np.unique(instance_map)\n",
    "        instance_ids = np.delete(instance_ids, np.where(instance_ids == 0))\n",
    "        for ins_id in instance_ids:\n",
    "            flag = (ins_id == instance_map)\n",
    "            gt = flag * (256 * img[:, :, 1] + img[:, :, 2])\n",
    "            \n",
    "            ax = plt.axes()\n",
    "            plt.imshow(gt,cmap='bone')\n",
    "            bboxs = find_bbox(gt)\n",
    "            bboxs = [i[:-1] for i in bboxs]\n",
    "            print(bboxs)\n",
    "\n",
    "            if len(bboxs) > 1:\n",
    "                \n",
    "                left = min([i[0] for i in bboxs])\n",
    "                upper = min([i[1] for i in bboxs])\n",
    "                right = max([i[0]+i[2] for i in bboxs])\n",
    "                down = max([i[1]+i[3] for i in bboxs])\n",
    "                bbox = np.array([left, upper, right-left, down-upper])\n",
    "            else:\n",
    "                bbox = bboxs[0]\n",
    "#             for j in bboxs: \n",
    "            rect = patches.Rectangle((bbox[0],bbox[1]),bbox[2],bbox[3],linewidth=1,edgecolor='r',facecolor='none')\n",
    "            ax.add_patch(rect)\n",
    "            plt.show()\n",
    "            break\n",
    "            print(ins_id)\n",
    "#         mask = 32*np.ones([h, w])\n",
    "        break"
   ]
  },
  {
   "cell_type": "code",
   "execution_count": 6,
   "metadata": {},
   "outputs": [
    {
     "data": {
      "text/plain": [
       "array([False,  True])"
      ]
     },
     "execution_count": 6,
     "metadata": {},
     "output_type": "execute_result"
    }
   ],
   "source": [
    "np.unique(flag)"
   ]
  },
  {
   "cell_type": "code",
   "execution_count": null,
   "metadata": {},
   "outputs": [],
   "source": []
  }
 ],
 "metadata": {
  "interpreter": {
   "hash": "c7238a629125f1b347062d66f0b66fa933383cc3f588a60d770e0a6fff5d078f"
  },
  "kernelspec": {
   "display_name": "Python 3",
   "language": "python",
   "name": "python3"
  },
  "language_info": {
   "codemirror_mode": {
    "name": "ipython",
    "version": 3
   },
   "file_extension": ".py",
   "mimetype": "text/x-python",
   "name": "python",
   "nbconvert_exporter": "python",
   "pygments_lexer": "ipython3",
   "version": "3.9.12"
  }
 },
 "nbformat": 4,
 "nbformat_minor": 2
}
